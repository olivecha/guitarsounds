{
 "cells": [
  {
   "cell_type": "code",
   "execution_count": 1,
   "id": "986ab129",
   "metadata": {},
   "outputs": [],
   "source": [
    "import os\n",
    "os.chdir('/Users/Olivier/anaconda3/envs/guitarsounds')\n",
    "%load_ext autoreload"
   ]
  },
  {
   "cell_type": "code",
   "execution_count": 2,
   "id": "0a2885e6",
   "metadata": {},
   "outputs": [],
   "source": [
    "%autoreload 2\n",
    "import guitarsounds"
   ]
  },
  {
   "cell_type": "code",
   "execution_count": 40,
   "id": "20d76fa4",
   "metadata": {
    "scrolled": false
   },
   "outputs": [
    {
     "data": {
      "application/vnd.jupyter.widget-view+json": {
       "model_id": "5fe047d1d5ae491ba7c44cbd32428e21",
       "version_major": 2,
       "version_minor": 0
      },
      "text/plain": [
       "Box(children=(Button(description='Ok', style=ButtonStyle()), Button(description='Go', disabled=True, style=But…"
      ]
     },
     "metadata": {},
     "output_type": "display_data"
    },
    {
     "data": {
      "application/vnd.jupyter.widget-view+json": {
       "model_id": "55d1eaf559bc4bea81af5de137e52b73",
       "version_major": 2,
       "version_minor": 0
      },
      "text/plain": [
       "Output(layout=Layout(border='1px solid black'))"
      ]
     },
     "metadata": {},
     "output_type": "display_data"
    }
   ],
   "source": [
    "interface = guitarsounds.Interface()"
   ]
  },
  {
   "cell_type": "code",
   "execution_count": null,
   "id": "dd9e58d7",
   "metadata": {},
   "outputs": [],
   "source": []
  }
 ],
 "metadata": {
  "kernelspec": {
   "display_name": "guitarsounds",
   "language": "python",
   "name": "guitarsounds"
  },
  "language_info": {
   "codemirror_mode": {
    "name": "ipython",
    "version": 3
   },
   "file_extension": ".py",
   "mimetype": "text/x-python",
   "name": "python",
   "nbconvert_exporter": "python",
   "pygments_lexer": "ipython3",
   "version": "3.9.4"
  }
 },
 "nbformat": 4,
 "nbformat_minor": 5
}
