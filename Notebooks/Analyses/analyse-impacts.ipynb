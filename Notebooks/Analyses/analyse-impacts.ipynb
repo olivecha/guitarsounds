{
 "cells": [
  {
   "cell_type": "code",
   "execution_count": 1,
   "id": "biological-kidney",
   "metadata": {},
   "outputs": [],
   "source": [
    "import os\n",
    "os.chdir('/Users/Olivier/anaconda3/envs/guitarsounds')\n",
    "%load_ext autoreload"
   ]
  },
  {
   "cell_type": "code",
   "execution_count": 3,
   "id": "realistic-evening",
   "metadata": {},
   "outputs": [],
   "source": [
    "%autoreload 2\n",
    "from tqdm.autonotebook import tqdm\n",
    "from guitarsounds import Sound, Signal\n",
    "import guitarsounds as guit"
   ]
  },
  {
   "cell_type": "code",
   "execution_count": 4,
   "id": "surface-girlfriend",
   "metadata": {},
   "outputs": [],
   "source": [
    "import librosa\n",
    "import librosa.display\n",
    "from soundfile import write\n",
    "import IPython.display as ipd\n",
    "import matplotlib.pyplot as plt\n",
    "import numpy as np\n",
    "import os\n",
    "from scipy import signal as sig\n",
    "from noisereduce import reduce_noise"
   ]
  },
  {
   "cell_type": "code",
   "execution_count": 5,
   "id": "illegal-expansion",
   "metadata": {},
   "outputs": [],
   "source": [
    "file1 = 'soundfiles/flax_carbon/Carbon.wav'\n",
    "file2 = \"soundfiles/flax_carbon/Flax.wav\"\n",
    "carbon = Sound(file1) \n",
    "carbon.condition()\n",
    "flax = Sound(file2)\n",
    "flax.condition()"
   ]
  },
  {
   "cell_type": "markdown",
   "id": "exposed-genius",
   "metadata": {},
   "source": [
    " ## Validation des transformation du signal"
   ]
  },
  {
   "cell_type": "code",
   "execution_count": null,
   "id": "diverse-joyce",
   "metadata": {
    "scrolled": true
   },
   "outputs": [],
   "source": [
    "carbon.validate_noise()\n",
    "carbon.validate_trim()\n",
    "flax.validate_noise()\n",
    "flax.validate_trim()"
   ]
  },
  {
   "cell_type": "markdown",
   "id": "answering-portuguese",
   "metadata": {},
   "source": [
    "## Graphique des enveloppes pour toutes les bins de fréquence"
   ]
  },
  {
   "cell_type": "code",
   "execution_count": null,
   "id": "vanilla-circular",
   "metadata": {},
   "outputs": [],
   "source": [
    "plt.figure(figsize=(8,8))\n",
    "carbon.plot_freq_bins()\n",
    "plt.title('decomposed impact for carbon plate')\n",
    "plt.show()"
   ]
  },
  {
   "cell_type": "code",
   "execution_count": null,
   "id": "heard-example",
   "metadata": {},
   "outputs": [],
   "source": [
    "plt.figure(figsize=(8,8))\n",
    "flax.plot_freq_bins()\n",
    "plt.title('decomposed impact for flax plate')\n",
    "plt.show()"
   ]
  },
  {
   "cell_type": "markdown",
   "id": "integral-horror",
   "metadata": {},
   "source": [
    "## Écoute de chaque bin de fréquence"
   ]
  },
  {
   "cell_type": "code",
   "execution_count": null,
   "id": "functioning-herald",
   "metadata": {
    "scrolled": true
   },
   "outputs": [],
   "source": [
    "carbon.listen_freq_bins()"
   ]
  },
  {
   "cell_type": "code",
   "execution_count": null,
   "id": "right-solid",
   "metadata": {
    "scrolled": true
   },
   "outputs": [],
   "source": [
    "flax.listen_freq_bins()"
   ]
  },
  {
   "cell_type": "markdown",
   "id": "ultimate-settle",
   "metadata": {},
   "source": [
    "## Comparaison temporelle des deux sons"
   ]
  },
  {
   "cell_type": "code",
   "execution_count": null,
   "id": "exact-crime",
   "metadata": {},
   "outputs": [],
   "source": [
    "guit.time_compare(carbon, flax, fbin='all')"
   ]
  },
  {
   "cell_type": "code",
   "execution_count": 8,
   "id": "working-archives",
   "metadata": {},
   "outputs": [
    {
     "data": {
      "image/png": "[encoded data removed]",
      "text/plain": [
       "<Figure size 864x432 with 2 Axes>"
      ]
     },
     "metadata": {
      "needs_background": "light"
     },
     "output_type": "display_data"
    }
   ],
   "source": [
    "guit.fft_diff(flax, carbon, fraction=16)"
   ]
  },
  {
   "cell_type": "code",
   "execution_count": null,
   "id": "encouraging-senate",
   "metadata": {},
   "outputs": [],
   "source": [
    "carbon, flax = guit.equalize_time(carbon, flax)"
   ]
  },
  {
   "cell_type": "code",
   "execution_count": null,
   "id": "knowing-robertson",
   "metadata": {},
   "outputs": [],
   "source": [
    "guit.fft_mirror(carbon, flax)"
   ]
  },
  {
   "cell_type": "code",
   "execution_count": null,
   "id": "challenging-mandate",
   "metadata": {},
   "outputs": [],
   "source": [
    "guit.peak_compare(carbon, flax)"
   ]
  },
  {
   "cell_type": "code",
   "execution_count": null,
   "id": "attempted-bullet",
   "metadata": {},
   "outputs": [],
   "source": []
  }
 ],
 "metadata": {
  "kernelspec": {
   "display_name": "guitarsounds",
   "language": "python",
   "name": "guitarsounds"
  },
  "language_info": {
   "codemirror_mode": {
    "name": "ipython",
    "version": 3
   },
   "file_extension": ".py",
   "mimetype": "text/x-python",
   "name": "python",
   "nbconvert_exporter": "python",
   "pygments_lexer": "ipython3",
   "version": "3.9.4"
  }
 },
 "nbformat": 4,
 "nbformat_minor": 5
}
