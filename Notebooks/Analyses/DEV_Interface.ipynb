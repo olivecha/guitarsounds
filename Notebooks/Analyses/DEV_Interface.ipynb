{
 "cells": [
  {
   "cell_type": "code",
   "execution_count": 1,
   "id": "986ab129",
   "metadata": {},
   "outputs": [],
   "source": [
    "import os\n",
    "os.chdir('/Users/Olivier/anaconda3/envs/guitarsounds')\n",
    "%load_ext autoreload"
   ]
  },
  {
   "cell_type": "code",
   "execution_count": 2,
   "id": "0a2885e6",
   "metadata": {},
   "outputs": [],
   "source": [
    "%autoreload 2\n",
    "import guitarsounds"
   ]
  },
  {
   "cell_type": "code",
   "execution_count": 8,
   "id": "20d76fa4",
   "metadata": {
    "scrolled": false
   },
   "outputs": [
    {
     "data": {
      "application/vnd.jupyter.widget-view+json": {
       "model_id": "1c7df78264af446e97ff2f46399080e2",
       "version_major": 2,
       "version_minor": 0
      },
      "text/plain": [
       "Box(children=(Button(description='Single Sound', style=ButtonStyle()), Button(description='Dual Sounds', style…"
      ]
     },
     "metadata": {},
     "output_type": "display_data"
    }
   ],
   "source": [
    "Interface = guitarsounds.Interface()"
   ]
  },
  {
   "cell_type": "code",
   "execution_count": null,
   "id": "7682d00f",
   "metadata": {},
   "outputs": [],
   "source": []
  }
 ],
 "metadata": {
  "kernelspec": {
   "display_name": "guitarsounds",
   "language": "python",
   "name": "guitarsounds"
  },
  "language_info": {
   "codemirror_mode": {
    "name": "ipython",
    "version": 3
   },
   "file_extension": ".py",
   "mimetype": "text/x-python",
   "name": "python",
   "nbconvert_exporter": "python",
   "pygments_lexer": "ipython3",
   "version": "3.9.4"
  }
 },
 "nbformat": 4,
 "nbformat_minor": 5
}
