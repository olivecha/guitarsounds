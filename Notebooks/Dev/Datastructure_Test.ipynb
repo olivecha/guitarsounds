{
 "cells": [
  {
   "cell_type": "code",
   "execution_count": 2,
   "id": "aggressive-scanner",
   "metadata": {},
   "outputs": [],
   "source": [
    "class Parameter(object):\n",
    "    \"\"\"\n",
    "    A class to store the individual sound parameters\n",
    "    \"\"\"\n",
    "    def __init__(self, name, value, info):\n",
    "        self.name = name\n",
    "        self.value = value\n",
    "        self.info = info"
   ]
  },
  {
   "cell_type": "code",
   "execution_count": 3,
   "id": "rapid-craft",
   "metadata": {},
   "outputs": [],
   "source": [
    "# Create a class with an arbitrary number of attributes\n",
    "class ParameterSet(object):\n",
    "    \"\"\"\n",
    "    A class to store multiple parameters as a set\n",
    "    \"\"\"\n",
    "    def __init__(self,name, *parameters):\n",
    "        self.name = name\n",
    "        for parameter in parameters:\n",
    "            setattr(self, parameter.name, parameter)"
   ]
  },
  {
   "cell_type": "code",
   "execution_count": 8,
   "id": "third-cholesterol",
   "metadata": {},
   "outputs": [],
   "source": [
    "class GlobalParameters(object):\n",
    "    \"\"\"\n",
    "    A class to store the parameter sets and to be used to assign parameter values to the different functions\n",
    "    \"\"\"\n",
    "    def __init__(self, *parameter_sets):\n",
    "        for parameter_set in parameter_sets:\n",
    "            setattr(self, parameter_set.name, parameter_set)\n",
    "            \n",
    "    def info(self):\n",
    "        for parameter_set in self.__dict__.values():\n",
    "            print(parameter_set.name)\n",
    "            parameters = [parameter for parameter in parameter_set_1.__dict__.values() if type(parameter) != str]\n",
    "            for parameter in parameters:\n",
    "                print('\\t', parameter.name, ':', parameter.value)\n",
    "    \n",
    "    def more_info(self):\n",
    "        for parameter_set in self.__dict__.values():\n",
    "            print(parameter_set.name)\n",
    "            parameters = [parameter for parameter in parameter_set_1.__dict__.values() if type(parameter) != str]\n",
    "            for parameter in parameters:\n",
    "                info = '(' + parameter.info + ')'\n",
    "                print('\\t', parameter.name, ':', parameter.value, info)\n",
    "                \n",
    "    def change(self, name, value):\n",
    "        for parameter_set in self.__dict__.values():\n",
    "            parameters = [parameter for parameter in parameter_set_1.__dict__.values() if type(parameter) != str]\n",
    "            for parameter  in parameters:\n",
    "                if parameter.name == name:\n",
    "                    parameter.value = value\n"
   ]
  },
  {
   "cell_type": "code",
   "execution_count": 9,
   "id": "unexpected-gabriel",
   "metadata": {},
   "outputs": [],
   "source": [
    "# Example\n",
    "\n",
    "# Individual parameters\n",
    "parameter_1 = Parameter('parameter_1', 10, 'Value for the parameter 1, usage...')\n",
    "parameter_2 = Parameter('parameter_2', 20, 'Value for the parameter 2, usage...')\n",
    "parameter_n = Parameter('parameter_n', 50, 'Value for the parameter n, usage...')\n",
    "parameter_m = Parameter('parameter_m', 100, 'Value for the parameter m, usage...')\n",
    "\n",
    "# Parameter sets\n",
    "parameter_set_1 = ParameterSet('parameter_set_1', parameter_1, parameter_2)\n",
    "parameter_set_2 = ParameterSet('parameter_set_n', parameter_n, parameter_m)\n",
    "\n",
    "# Global parameter set\n",
    "GP = GlobalParameters(parameter_set_1, parameter_set_2)"
   ]
  },
  {
   "cell_type": "code",
   "execution_count": 10,
   "id": "coordinated-apollo",
   "metadata": {},
   "outputs": [
    {
     "name": "stdout",
     "output_type": "stream",
     "text": [
      "parameter_set_1\n",
      "\t parameter_1 : 10\n",
      "\t parameter_2 : 20\n",
      "parameter_set_n\n",
      "\t parameter_1 : 10\n",
      "\t parameter_2 : 20\n"
     ]
    }
   ],
   "source": [
    "GP.info()"
   ]
  },
  {
   "cell_type": "code",
   "execution_count": 11,
   "id": "expired-cyprus",
   "metadata": {},
   "outputs": [
    {
     "name": "stdout",
     "output_type": "stream",
     "text": [
      "parameter_set_1\n",
      "\t parameter_1 : 10 (Value for the parameter 1, usage...)\n",
      "\t parameter_2 : 20 (Value for the parameter 2, usage...)\n",
      "parameter_set_n\n",
      "\t parameter_1 : 10 (Value for the parameter 1, usage...)\n",
      "\t parameter_2 : 20 (Value for the parameter 2, usage...)\n"
     ]
    }
   ],
   "source": [
    "GP.more_info()"
   ]
  },
  {
   "cell_type": "code",
   "execution_count": 14,
   "id": "informative-occasions",
   "metadata": {},
   "outputs": [
    {
     "data": {
      "text/plain": [
       "15"
      ]
     },
     "execution_count": 14,
     "metadata": {},
     "output_type": "execute_result"
    }
   ],
   "source": [
    "GP.change('parameter_1', 15)\n",
    "GP.parameter_set_1.parameter_1.value"
   ]
  },
  {
   "cell_type": "code",
   "execution_count": null,
   "id": "coated-poultry",
   "metadata": {},
   "outputs": [],
   "source": []
  }
 ],
 "metadata": {
  "kernelspec": {
   "display_name": "guitarsounds",
   "language": "python",
   "name": "guitarsounds"
  },
  "language_info": {
   "codemirror_mode": {
    "name": "ipython",
    "version": 3
   },
   "file_extension": ".py",
   "mimetype": "text/x-python",
   "name": "python",
   "nbconvert_exporter": "python",
   "pygments_lexer": "ipython3",
   "version": "3.9.4"
  }
 },
 "nbformat": 4,
 "nbformat_minor": 5
}
