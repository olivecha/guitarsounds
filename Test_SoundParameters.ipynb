{
 "cells": [
  {
   "cell_type": "code",
   "execution_count": 1,
   "id": "happy-expansion",
   "metadata": {},
   "outputs": [],
   "source": [
    "%load_ext autoreload"
   ]
  },
  {
   "cell_type": "code",
   "execution_count": 3,
   "id": "danish-crown",
   "metadata": {},
   "outputs": [],
   "source": [
    "%autoreload 2\n",
    "from guitarsounds import Sound, Signal\n",
    "import guitarsounds as guit"
   ]
  },
  {
   "cell_type": "code",
   "execution_count": 4,
   "id": "average-calvin",
   "metadata": {},
   "outputs": [],
   "source": [
    "import librosa\n",
    "import librosa.display\n",
    "from soundfile import write\n",
    "import IPython.display as ipd\n",
    "import matplotlib.pyplot as plt\n",
    "import numpy as np\n",
    "import os\n",
    "import scipy\n",
    "from scipy import signal as sig\n",
    "from noisereduce import reduce_noise\n",
    "from recordtype import recordtype"
   ]
  },
  {
   "cell_type": "markdown",
   "id": "burning-character",
   "metadata": {},
   "source": [
    "# Global Parameters\n",
    "\n",
    "## Printing functions"
   ]
  },
  {
   "cell_type": "code",
   "execution_count": 12,
   "id": "british-calcium",
   "metadata": {},
   "outputs": [
    {
     "name": "stdout",
     "output_type": "stream",
     "text": [
      "general\n",
      "\t octave_fraction : 3\n",
      "\t fft_range : 2000\n",
      "\t onset_delay : 100\n",
      "envelop\n",
      "\t frame_size : 524\n",
      "\t hop_length : 200\n",
      "log_envelop\n",
      "\t start_time : 0.01\n",
      "\t min_window : None\n",
      "\t max_window : 2048\n",
      "fundamental\n",
      "\t min_freq : 60\n",
      "\t max_freq : 2000\n",
      "\t frame_length : 1024\n",
      "bins\n",
      "\t bass : 100\n",
      "\t mid : 700\n",
      "\t highmid : 2000\n",
      "\t uppermid : 4000\n",
      "\t presence : 6000\n"
     ]
    }
   ],
   "source": [
    "# Printing the parameter values\n",
    "guit.SP.info()  # SP stands for SoundParameters"
   ]
  },
  {
   "cell_type": "code",
   "execution_count": 13,
   "id": "regulated-bermuda",
   "metadata": {
    "scrolled": true
   },
   "outputs": [
    {
     "name": "stdout",
     "output_type": "stream",
     "text": [
      "general\n",
      "\t octave_fraction : 3 [Fraction of the octave used for octave computations]\n",
      "\t fft_range : 2000 [Maximum frequency in the Fourier transform plot]\n",
      "\t onset_delay : 100 [Delay before the onset (attack) to keep when trimming the signal]\n",
      "envelop\n",
      "\t frame_size : 524 [Number of samples in the array used to compute a point of the envelop]\n",
      "\t hop_length : 200 [Number of samples between envelop points]\n",
      "log_envelop\n",
      "\t start_time : 0.01 [First point in the log scale envelop]\n",
      "\t min_window : None [Minimum window size for the log envelop computed from start_time by default]\n",
      "\t max_window : 2048 [Maximum window size for the log envelop in samples]\n",
      "fundamental\n",
      "\t min_freq : 60 [Minimum frequency for the fundamental finding algorithm (Hz)]\n",
      "\t max_freq : 2000 [Maximum frequency for the fundamental finding algorithm (Hz)]\n",
      "\t frame_length : 1024 [Frame length in samples to compute the fundamentals across the signal]\n",
      "bins\n",
      "\t bass : 100 [Higher cutoff value for the bass bin (Hz), the lower value is zero]\n",
      "\t mid : 700 [Higher cutoff value for the mid bin (Hz)]\n",
      "\t highmid : 2000 [Higher cutoff value for the highmid bin (Hz)]\n",
      "\t uppermid : 4000 [Higher cutoff value for the uppermid bin (Hz)]\n",
      "\t presence : 6000 [Higher cutoff value for the presence bin (Hz), the brilliance bin is above this frequency]\n"
     ]
    }
   ],
   "source": [
    "# Printing the parameter value and an info string explaining what they do\n",
    "guit.SP.more_info()"
   ]
  },
  {
   "cell_type": "code",
   "execution_count": 14,
   "id": "dirty-hygiene",
   "metadata": {
    "scrolled": true
   },
   "outputs": [],
   "source": [
    "# Function to change the value of a parameter\n",
    "guit.SP.change('octave_fraction', 6)"
   ]
  },
  {
   "cell_type": "code",
   "execution_count": 15,
   "id": "variable-glucose",
   "metadata": {
    "scrolled": true
   },
   "outputs": [
    {
     "name": "stdout",
     "output_type": "stream",
     "text": [
      "general\n",
      "\t octave_fraction : 6\n",
      "\t fft_range : 2000\n",
      "\t onset_delay : 100\n",
      "envelop\n",
      "\t frame_size : 524\n",
      "\t hop_length : 200\n",
      "log_envelop\n",
      "\t start_time : 0.01\n",
      "\t min_window : None\n",
      "\t max_window : 2048\n",
      "fundamental\n",
      "\t min_freq : 60\n",
      "\t max_freq : 2000\n",
      "\t frame_length : 1024\n",
      "bins\n",
      "\t bass : 100\n",
      "\t mid : 700\n",
      "\t highmid : 2000\n",
      "\t uppermid : 4000\n",
      "\t presence : 6000\n"
     ]
    }
   ],
   "source": [
    "guit.SP.info()"
   ]
  },
  {
   "cell_type": "markdown",
   "id": "qualified-patrol",
   "metadata": {},
   "source": [
    "## Changing their values"
   ]
  },
  {
   "cell_type": "code",
   "execution_count": 17,
   "id": "technical-northern",
   "metadata": {},
   "outputs": [
    {
     "name": "stdout",
     "output_type": "stream",
     "text": [
      "6\n"
     ]
    }
   ],
   "source": [
    "# The Global Parameters are used when creating a Sound and a copy is bound to the Sound object\n",
    "file2 = \"soundfiles/flax_carbon/Carbon_D0_2.wav\"\n",
    "Sound2 = Sound(file2)\n",
    "Sound2.condition()\n",
    "\n",
    "print(Sound2.SP.general.octave_fraction.value)"
   ]
  },
  {
   "cell_type": "code",
   "execution_count": 23,
   "id": "homeless-finder",
   "metadata": {},
   "outputs": [
    {
     "data": {
      "image/png": "[encoded data removed]",
      "text/plain": [
       "<Figure size 864x360 with 2 Axes>"
      ]
     },
     "metadata": {
      "needs_background": "light"
     },
     "output_type": "display_data"
    }
   ],
   "source": [
    "# The value can be changed inside the Sound instance\n",
    "# but this only works for parameters not used in the conditioning of the signal \n",
    "\n",
    "plt.figure(figsize=(12,5))\n",
    "\n",
    "plt.subplot(1,2,1)\n",
    "Sound2.SP.change('octave_fraction', 6)\n",
    "Sound2.signal.plot(kind='fft hist')\n",
    "plt.title('plot with octave fraction = 6')\n",
    "\n",
    "plt.subplot(1,2,2)\n",
    "Sound2.SP.change('octave_fraction', 3)\n",
    "Sound2.signal.plot(kind='fft hist')\n",
    "plt.title('plot with octave fraction = 3')\n",
    "\n",
    "plt.show()"
   ]
  },
  {
   "cell_type": "code",
   "execution_count": null,
   "id": "accurate-cleveland",
   "metadata": {},
   "outputs": [],
   "source": []
  }
 ],
 "metadata": {
  "kernelspec": {
   "display_name": "guitarsounds",
   "language": "python",
   "name": "guitarsounds"
  },
  "language_info": {
   "codemirror_mode": {
    "name": "ipython",
    "version": 3
   },
   "file_extension": ".py",
   "mimetype": "text/x-python",
   "name": "python",
   "nbconvert_exporter": "python",
   "pygments_lexer": "ipython3",
   "version": "3.9.4"
  }
 },
 "nbformat": 4,
 "nbformat_minor": 5
}
