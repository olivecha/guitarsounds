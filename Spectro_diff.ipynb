{
 "cells": [
  {
   "cell_type": "markdown",
   "id": "brown-temperature",
   "metadata": {},
   "source": [
    "# Imports"
   ]
  },
  {
   "cell_type": "code",
   "execution_count": 1,
   "id": "pressing-lecture",
   "metadata": {},
   "outputs": [],
   "source": [
    "%load_ext autoreload"
   ]
  },
  {
   "cell_type": "code",
   "execution_count": 5,
   "id": "appreciated-armor",
   "metadata": {},
   "outputs": [],
   "source": [
    "%autoreload 2\n",
    "from guitarsounds import Sound, Signal\n",
    "import guitarsounds as guit"
   ]
  },
  {
   "cell_type": "code",
   "execution_count": 6,
   "id": "surface-girlfriend",
   "metadata": {},
   "outputs": [],
   "source": [
    "import librosa\n",
    "import librosa.display\n",
    "from soundfile import write\n",
    "import IPython.display as ipd\n",
    "import matplotlib.pyplot as plt\n",
    "import numpy as np\n",
    "import os\n",
    "import scipy\n",
    "from scipy import signal as sig\n",
    "from noisereduce import reduce_noise"
   ]
  },
  {
   "cell_type": "markdown",
   "id": "organized-timer",
   "metadata": {},
   "source": [
    "# Computing the difference between FFTS"
   ]
  },
  {
   "cell_type": "code",
   "execution_count": 7,
   "id": "legal-class",
   "metadata": {},
   "outputs": [],
   "source": [
    "# Get the soundfile paths\n",
    "paths = []\n",
    "samples = list(range(1, 9))\n",
    "tries = list(range(1, 10))\n",
    "for sample in samples:\n",
    "    unit = []\n",
    "    for trie in tries:\n",
    "        unit.append('test_leste/' + str(sample) + '-' + str(trie) + '.wav')\n",
    "    paths.append(unit)"
   ]
  },
  {
   "cell_type": "code",
   "execution_count": 8,
   "id": "convenient-street",
   "metadata": {
    "scrolled": true
   },
   "outputs": [
    {
     "name": "stdout",
     "output_type": "stream",
     "text": [
      "Signal is too short to be trimmed before onset.\n",
      "\n",
      "Not sufficient noise in the raw signal, unable to filter.\n",
      "\n",
      "Signal is too short to be trimmed before onset.\n",
      "\n",
      "Not sufficient noise in the raw signal, unable to filter.\n",
      "\n",
      "Signal is too short to be trimmed before onset.\n",
      "\n",
      "Not sufficient noise in the raw signal, unable to filter.\n",
      "\n"
     ]
    }
   ],
   "source": [
    "S1 = Sound(paths[0][0])\n",
    "S2 = Sound(paths[1][0])\n",
    "S3 = Sound(paths[5][0])\n",
    "S1.condition()\n",
    "S2.condition()\n",
    "S3.condition()"
   ]
  },
  {
   "cell_type": "code",
   "execution_count": 9,
   "id": "demographic-issue",
   "metadata": {},
   "outputs": [
    {
     "data": {
      "image/png": "[encoded data removed]",
      "text/plain": [
       "<Figure size 864x432 with 2 Axes>"
      ]
     },
     "metadata": {
      "needs_background": "light"
     },
     "output_type": "display_data"
    }
   ],
   "source": [
    "guit.fft_diff(S1, S2, fraction=6)"
   ]
  },
  {
   "cell_type": "code",
   "execution_count": null,
   "id": "alternative-traveler",
   "metadata": {},
   "outputs": [],
   "source": []
  }
 ],
 "metadata": {
  "kernelspec": {
   "display_name": "guitarsounds",
   "language": "python",
   "name": "guitarsounds"
  },
  "language_info": {
   "codemirror_mode": {
    "name": "ipython",
    "version": 3
   },
   "file_extension": ".py",
   "mimetype": "text/x-python",
   "name": "python",
   "nbconvert_exporter": "python",
   "pygments_lexer": "ipython3",
   "version": "3.9.4"
  }
 },
 "nbformat": 4,
 "nbformat_minor": 5
}
